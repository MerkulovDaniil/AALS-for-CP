{
  "cells": [
    {
      "cell_type": "markdown",
      "metadata": {
        "id": "view-in-github",
        "colab_type": "text"
      },
      "source": [
        "<a href=\"https://colab.research.google.com/github/MerkulovDaniil/AALS-for-CP/blob/master/Notebooks/scalar_dynamics.ipynb\" target=\"_parent\"><img src=\"https://colab.research.google.com/assets/colab-badge.svg\" alt=\"Open In Colab\"/></a>"
      ]
    },
    {
      "cell_type": "code",
      "execution_count": 2,
      "metadata": {
        "id": "FHcTojdyUuGV",
        "outputId": "a61b0fa3-0a75-4913-9445-b39df89ae6b6",
        "colab": {
          "base_uri": "https://localhost:8080/"
        }
      },
      "outputs": [
        {
          "output_type": "stream",
          "name": "stdout",
          "text": [
            "\u001b[K     |████████████████████████████████| 4.3 MB 4.4 MB/s \n",
            "\u001b[K     |████████████████████████████████| 1.1 MB 48.6 MB/s \n",
            "\u001b[K     |████████████████████████████████| 98 kB 6.5 MB/s \n",
            "\u001b[K     |████████████████████████████████| 247 kB 61.9 MB/s \n",
            "\u001b[K     |████████████████████████████████| 40 kB 5.0 MB/s \n",
            "\u001b[K     |████████████████████████████████| 15.7 MB 45.8 MB/s \n",
            "\u001b[31mERROR: pip's dependency resolver does not currently take into account all the packages that are installed. This behaviour is the source of the following dependency conflicts.\n",
            "tensorflow 2.8.0 requires tf-estimator-nightly==2.8.0.dev2021122109, which is not installed.\n",
            "google-colab 1.0.0 requires six~=1.15.0, but you have six 1.16.0 which is incompatible.\n",
            "datascience 0.10.6 requires folium==0.2.1, but you have folium 0.8.3 which is incompatible.\n",
            "arviz 0.11.4 requires typing-extensions<4,>=3.7.4.3, but you have typing-extensions 4.1.1 which is incompatible.\n",
            "albumentations 0.1.12 requires imgaug<0.2.7,>=0.2.5, but you have imgaug 0.2.9 which is incompatible.\u001b[0m\n",
            "\u001b[?25h"
          ]
        }
      ],
      "source": [
        "!pip install --upgrade --force-reinstall --quiet matplotlib "
      ]
    },
    {
      "cell_type": "markdown",
      "metadata": {
        "id": "GWaZvneB6lPz"
      },
      "source": [
        "# SDE"
      ]
    },
    {
      "cell_type": "markdown",
      "metadata": {
        "id": "615hVuuP5kvH"
      },
      "source": [
        "$$\n",
        "\\frac{dx(t)}{dt} = - \\nabla f(x(t)) + \\sqrt{2\\sigma}* \\mathcal{N}(0, 1)\n",
        "$$"
      ]
    },
    {
      "cell_type": "markdown",
      "metadata": {
        "id": "IH9BGmiAvjz3"
      },
      "source": [
        "## Generating dynamics"
      ]
    },
    {
      "cell_type": "code",
      "execution_count": 3,
      "metadata": {
        "id": "TPG1GBJ34KD-"
      },
      "outputs": [],
      "source": [
        "# Hyperparameters\n",
        "Function = 'FM sin'     # Minimums with different width, but the same values \n",
        "Function = 'Parabola'   # Just parabola\n",
        "Function = 'Two peaks'  # Actuallu, this is two minimums, not peaks\n",
        "Function = 'Super bad'  # A lot of local minimums and non-differentiable parts\n",
        "\n",
        "methods = [\"GF Euler\", \"HB Explicit\", \"NAG Explicit\"]\n",
        " \n",
        "N_solutions = 100       # Number of parallel solutions\n",
        "sigma = 1e-1            # Noise level\n",
        "t_start = 0             # Starting time value (should be zero)\n",
        "t_end = 50              # Ending time value (may vary, depends from the f(x))\n",
        "alpha = 1e-1            # Timestep\n",
        "mu = 1.0                # Hyperparameter for accelerated schemes"
      ]
    },
    {
      "cell_type": "code",
      "execution_count": null,
      "metadata": {
        "ExecuteTime": {
          "end_time": "2020-09-18T14:31:42.598566Z",
          "start_time": "2020-09-18T14:31:40.221176Z"
        },
        "cellView": "code",
        "id": "5FGKo8jR0EoX"
      },
      "outputs": [],
      "source": [
        "%matplotlib notebook\n",
        "import jax.numpy as np\n",
        "import numpy as onp\n",
        "import math\n",
        "from jax import grad, vmap\n",
        "import jax\n",
        "from tqdm import tqdm\n",
        "from IPython.display import clear_output\n",
        "clear_output()\n",
        "\n",
        "from matplotlib import pyplot as plt\n",
        "import seaborn as sns\n",
        "sns.set()\n",
        "\n",
        "from matplotlib.pyplot import figure\n",
        "import scipy.integrate as integrate\n",
        "\n",
        "from scipy.stats import gaussian_kde\n",
        "from scipy.stats import wasserstein_distance\n",
        "\n",
        "def f_super_bad(x):\n",
        "    return np.where((x - np.floor(x)) * np.abs(x + 5) < 0.2 * (np.abs(x) < 5), \n",
        "                    0.5 * np.floor(x),\n",
        "           0.4 * np.exp(-2 * (x - 6)**2) + \\\n",
        "           2 * np.exp(-5 * (x + 4)**2) + \\\n",
        "           3 * np.exp(-0.5 * (x - 3)**4) + \\\n",
        "           0.5 * np.exp(- (x+7)**2) + \\\n",
        "           0.1 * np.cos(x * 30) + \\\n",
        "           0.01 * np.abs(x - 7) * np.sin(x**3 / 13) - \\\n",
        "           np.tanh(x**2) -\n",
        "           0.1 * np.abs(x))\n",
        "    \n",
        "def f_fm_sin(x):\n",
        "    c = 1.6 #@param {type:\"slider\", min:-5, max:5, step:0.1}\n",
        "    t = 0.6 #@param {type:\"slider\", min:-1, max:1, step:0.05}\n",
        "    return np.cos(c*x + 1/t*np.sin((1-t)*c*x) - math.pi) + 1\n",
        "\n",
        "def f_parabola(x):\n",
        "    return x**2\n",
        "\n",
        "def f_two_peaks(x):\n",
        "    a=2\n",
        "    b=5\n",
        "    return 1/50*(a*np.log(np.cosh(x))-b)**2\n",
        "\n",
        "if Function == 'FM sin':\n",
        "    f = f_fm_sin\n",
        "    x_bounds=(-15,15)\n",
        "    # draw_F(x_bounds=x_bounds, plot_df = True)\n",
        "elif Function == 'Super bad':\n",
        "    f = f_super_bad\n",
        "    x_bounds=(-10,10)\n",
        "    # draw_F(x_bounds=x_bounds, plot_df = True)\n",
        "elif Function == 'Parabola':\n",
        "    f = f_parabola\n",
        "    x_bounds=(-2,2)\n",
        "elif Function == \"Two peaks\":\n",
        "    f = f_two_peaks\n",
        "    x_bounds=(-10,10)\n",
        "\n",
        "\n",
        "x_dynamics = dict()\n",
        "v_dynamics = dict()\n",
        "x_0 = dict()\n",
        "kls = dict()\n",
        "wds = dict()\n",
        "t_seq = dict()\n",
        "kde_pdfs = dict()\n",
        "\n",
        "df = jax.jit(grad(f))\n",
        "\n",
        "RNG = jax.random.PRNGKey(0)\n",
        "\n",
        "for method in methods:\n",
        "    RNG, subkey = jax.random.split(RNG)\n",
        "    if method == \"GF Euler\":\n",
        "        N_t_values = int((t_end - t_start)/alpha)\n",
        "    elif method == \"NAG Explicit\":\n",
        "        gamma_0 = np.sqrt(mu)\n",
        "        N_t_values = int((t_end - t_start)/alpha)\n",
        "    elif method == \"HB Explicit\":\n",
        "        gamma_0 = np.sqrt(mu)\n",
        "        N_t_values = int((t_end - t_start)/alpha)\n",
        "\n",
        "    t_seq[method] = np.linspace(t_start, t_end, N_t_values)\n",
        "    x_dynamics[method] = onp.zeros((N_solutions, N_t_values+1))\n",
        "    v_dynamics[method] = onp.zeros((N_solutions, N_t_values+1))\n",
        "\n",
        "    x_0 = jax.random.uniform(RNG, (N_solutions, 1), \n",
        "                         minval=x_bounds[0] + 0.2*np.abs(x_bounds[0]),\n",
        "                         maxval=x_bounds[1]-0.2*np.abs(x_bounds[1]))\n",
        "    \n",
        "    kls[method] = [None for t in t_seq[method]]\n",
        "    wds[method] = [None for t in t_seq[method]]\n",
        "    \n",
        "    x_dynamics[method][:, 0] = x_0.squeeze()\n",
        "\n",
        "    for i_t, t_ in enumerate(tqdm(t_seq[method], desc=f\"Calculating dynamics for {method}\")):\n",
        "        RNG, subkey = jax.random.split(RNG)\n",
        "        W = jax.random.normal(RNG, (N_solutions, 1)).squeeze()\n",
        "\n",
        "        if method == \"GF Euler\":\n",
        "            grads = vmap(df)(x_dynamics[method][:, i_t])\n",
        "            x_dynamics[method][:, i_t+1] = x_dynamics[method][:, i_t] - \\\n",
        "            alpha*grads + np.sqrt(2*sigma*alpha)*W\n",
        "        elif method == \"NAG Explicit\":\n",
        "            v_dynamics[method][:, 0] = x_0.squeeze()\n",
        "            gamma = (gamma_0+mu*alpha)/(1+alpha)\n",
        "            x_dynamics[method][:, i_t+1] = (x_dynamics[method][:, i_t] + alpha*v_dynamics[method][:, i_t])/(1 + alpha)\n",
        "            grads = vmap(df)(x_dynamics[method][:, i_t+1])\n",
        "            tau = (alpha*mu)/gamma\n",
        "            v_dynamics[method][:, i_t+1] = (v_dynamics[method][:, i_t] + mu*alpha/gamma*x_dynamics[method][:, i_t+1] - alpha/gamma*grads + np.sqrt(2*sigma*alpha)*W)/(1+tau)\n",
        "        elif method == \"HB Explicit\":\n",
        "            gamma = (gamma_0+mu*alpha)/(1+alpha)\n",
        "            x_dynamics[method][:, i_t+1] = x_dynamics[method][:, i_t] + alpha*v_dynamics[method][:, i_t]\n",
        "            grads = vmap(df)(x_dynamics[method][:, i_t+1])\n",
        "            v_dynamics[method][:, i_t+1] = 1.0/(1+2*alpha)*(-alpha/mu*grads + np.sqrt(2*sigma*alpha)*W + v_dynamics[method][:, i_t])"
      ]
    },
    {
      "cell_type": "markdown",
      "metadata": {
        "id": "YP0kU7I6z4ZQ"
      },
      "source": [
        "## Calculating KL and WD\n",
        "We are given a function of stationary distribution and actual samples of dynamics at each timestep.\n",
        "\n",
        "### KL\n",
        "For calculating KL we will try to recover empirical density with KDE estimator (we have a problem with choosing bandwidth). After it we will just calculate an integral.\n",
        "\n",
        "### WD\n",
        "For calculating WD we will sample from stationary distribution and calculate WD between two 1D arrays."
      ]
    },
    {
      "cell_type": "code",
      "execution_count": 5,
      "metadata": {
        "colab": {
          "base_uri": "https://localhost:8080/",
          "height": 603
        },
        "id": "v_orVPXA0fPu",
        "outputId": "c285cf78-4929-4fad-c933-bb9d56e491a4"
      },
      "outputs": [
        {
          "output_type": "stream",
          "name": "stderr",
          "text": [
            "/usr/local/lib/python3.7/dist-packages/ipykernel_launcher.py:2: IntegrationWarning: The maximum number of subdivisions (100) has been achieved.\n",
            "  If increasing the limit yields no improvement it is advised to analyze \n",
            "  the integrand in order to determine the difficulties.  If the position of a \n",
            "  local difficulty can be determined (singularity, discontinuity) one will \n",
            "  probably gain from splitting up the interval and calling the integrator \n",
            "  on the subranges.  Perhaps a special-purpose integrator should be used.\n",
            "  \n",
            "Generating CDF: 100%|██████████| 999/999 [00:22<00:00, 43.86it/s]\n"
          ]
        },
        {
          "output_type": "error",
          "ename": "ImportError",
          "evalue": "ignored",
          "traceback": [
            "\u001b[0;31m---------------------------------------------------------------------------\u001b[0m",
            "\u001b[0;31mImportError\u001b[0m                               Traceback (most recent call last)",
            "\u001b[0;32m/usr/local/lib/python3.7/dist-packages/IPython/core/formatters.py\u001b[0m in \u001b[0;36m__call__\u001b[0;34m(self, obj)\u001b[0m\n\u001b[1;32m    332\u001b[0m                 \u001b[0;32mpass\u001b[0m\u001b[0;34m\u001b[0m\u001b[0;34m\u001b[0m\u001b[0m\n\u001b[1;32m    333\u001b[0m             \u001b[0;32melse\u001b[0m\u001b[0;34m:\u001b[0m\u001b[0;34m\u001b[0m\u001b[0;34m\u001b[0m\u001b[0m\n\u001b[0;32m--> 334\u001b[0;31m                 \u001b[0;32mreturn\u001b[0m \u001b[0mprinter\u001b[0m\u001b[0;34m(\u001b[0m\u001b[0mobj\u001b[0m\u001b[0;34m)\u001b[0m\u001b[0;34m\u001b[0m\u001b[0;34m\u001b[0m\u001b[0m\n\u001b[0m\u001b[1;32m    335\u001b[0m             \u001b[0;31m# Finally look for special method names\u001b[0m\u001b[0;34m\u001b[0m\u001b[0;34m\u001b[0m\u001b[0;34m\u001b[0m\u001b[0m\n\u001b[1;32m    336\u001b[0m             \u001b[0mmethod\u001b[0m \u001b[0;34m=\u001b[0m \u001b[0mget_real_method\u001b[0m\u001b[0;34m(\u001b[0m\u001b[0mobj\u001b[0m\u001b[0;34m,\u001b[0m \u001b[0mself\u001b[0m\u001b[0;34m.\u001b[0m\u001b[0mprint_method\u001b[0m\u001b[0;34m)\u001b[0m\u001b[0;34m\u001b[0m\u001b[0;34m\u001b[0m\u001b[0m\n",
            "\u001b[0;32m/usr/local/lib/python3.7/dist-packages/IPython/core/pylabtools.py\u001b[0m in \u001b[0;36m<lambda>\u001b[0;34m(fig)\u001b[0m\n\u001b[1;32m    239\u001b[0m \u001b[0;34m\u001b[0m\u001b[0m\n\u001b[1;32m    240\u001b[0m     \u001b[0;32mif\u001b[0m \u001b[0;34m'png'\u001b[0m \u001b[0;32min\u001b[0m \u001b[0mformats\u001b[0m\u001b[0;34m:\u001b[0m\u001b[0;34m\u001b[0m\u001b[0;34m\u001b[0m\u001b[0m\n\u001b[0;32m--> 241\u001b[0;31m         \u001b[0mpng_formatter\u001b[0m\u001b[0;34m.\u001b[0m\u001b[0mfor_type\u001b[0m\u001b[0;34m(\u001b[0m\u001b[0mFigure\u001b[0m\u001b[0;34m,\u001b[0m \u001b[0;32mlambda\u001b[0m \u001b[0mfig\u001b[0m\u001b[0;34m:\u001b[0m \u001b[0mprint_figure\u001b[0m\u001b[0;34m(\u001b[0m\u001b[0mfig\u001b[0m\u001b[0;34m,\u001b[0m \u001b[0;34m'png'\u001b[0m\u001b[0;34m,\u001b[0m \u001b[0;34m**\u001b[0m\u001b[0mkwargs\u001b[0m\u001b[0;34m)\u001b[0m\u001b[0;34m)\u001b[0m\u001b[0;34m\u001b[0m\u001b[0;34m\u001b[0m\u001b[0m\n\u001b[0m\u001b[1;32m    242\u001b[0m     \u001b[0;32mif\u001b[0m \u001b[0;34m'retina'\u001b[0m \u001b[0;32min\u001b[0m \u001b[0mformats\u001b[0m \u001b[0;32mor\u001b[0m \u001b[0;34m'png2x'\u001b[0m \u001b[0;32min\u001b[0m \u001b[0mformats\u001b[0m\u001b[0;34m:\u001b[0m\u001b[0;34m\u001b[0m\u001b[0;34m\u001b[0m\u001b[0m\n\u001b[1;32m    243\u001b[0m         \u001b[0mpng_formatter\u001b[0m\u001b[0;34m.\u001b[0m\u001b[0mfor_type\u001b[0m\u001b[0;34m(\u001b[0m\u001b[0mFigure\u001b[0m\u001b[0;34m,\u001b[0m \u001b[0;32mlambda\u001b[0m \u001b[0mfig\u001b[0m\u001b[0;34m:\u001b[0m \u001b[0mretina_figure\u001b[0m\u001b[0;34m(\u001b[0m\u001b[0mfig\u001b[0m\u001b[0;34m,\u001b[0m \u001b[0;34m**\u001b[0m\u001b[0mkwargs\u001b[0m\u001b[0;34m)\u001b[0m\u001b[0;34m)\u001b[0m\u001b[0;34m\u001b[0m\u001b[0;34m\u001b[0m\u001b[0m\n",
            "\u001b[0;32m/usr/local/lib/python3.7/dist-packages/IPython/core/pylabtools.py\u001b[0m in \u001b[0;36mprint_figure\u001b[0;34m(fig, fmt, bbox_inches, **kwargs)\u001b[0m\n\u001b[1;32m    123\u001b[0m \u001b[0;34m\u001b[0m\u001b[0m\n\u001b[1;32m    124\u001b[0m     \u001b[0mbytes_io\u001b[0m \u001b[0;34m=\u001b[0m \u001b[0mBytesIO\u001b[0m\u001b[0;34m(\u001b[0m\u001b[0;34m)\u001b[0m\u001b[0;34m\u001b[0m\u001b[0;34m\u001b[0m\u001b[0m\n\u001b[0;32m--> 125\u001b[0;31m     \u001b[0mfig\u001b[0m\u001b[0;34m.\u001b[0m\u001b[0mcanvas\u001b[0m\u001b[0;34m.\u001b[0m\u001b[0mprint_figure\u001b[0m\u001b[0;34m(\u001b[0m\u001b[0mbytes_io\u001b[0m\u001b[0;34m,\u001b[0m \u001b[0;34m**\u001b[0m\u001b[0mkw\u001b[0m\u001b[0;34m)\u001b[0m\u001b[0;34m\u001b[0m\u001b[0;34m\u001b[0m\u001b[0m\n\u001b[0m\u001b[1;32m    126\u001b[0m     \u001b[0mdata\u001b[0m \u001b[0;34m=\u001b[0m \u001b[0mbytes_io\u001b[0m\u001b[0;34m.\u001b[0m\u001b[0mgetvalue\u001b[0m\u001b[0;34m(\u001b[0m\u001b[0;34m)\u001b[0m\u001b[0;34m\u001b[0m\u001b[0;34m\u001b[0m\u001b[0m\n\u001b[1;32m    127\u001b[0m     \u001b[0;32mif\u001b[0m \u001b[0mfmt\u001b[0m \u001b[0;34m==\u001b[0m \u001b[0;34m'svg'\u001b[0m\u001b[0;34m:\u001b[0m\u001b[0;34m\u001b[0m\u001b[0;34m\u001b[0m\u001b[0m\n",
            "\u001b[0;32m/usr/local/lib/python3.7/dist-packages/matplotlib/backend_bases.py\u001b[0m in \u001b[0;36mprint_figure\u001b[0;34m(self, filename, dpi, facecolor, edgecolor, orientation, format, bbox_inches, **kwargs)\u001b[0m\n\u001b[1;32m   2092\u001b[0m         \u001b[0mratio\u001b[0m \u001b[0;34m:\u001b[0m \u001b[0mfloat\u001b[0m\u001b[0;34m\u001b[0m\u001b[0;34m\u001b[0m\u001b[0m\n\u001b[1;32m   2093\u001b[0m             \u001b[0mThe\u001b[0m \u001b[0mratio\u001b[0m \u001b[0mof\u001b[0m \u001b[0mlogical\u001b[0m \u001b[0mto\u001b[0m \u001b[0mphysical\u001b[0m \u001b[0mpixels\u001b[0m \u001b[0mused\u001b[0m \u001b[0;32mfor\u001b[0m \u001b[0mthe\u001b[0m \u001b[0mcanvas\u001b[0m\u001b[0;34m.\u001b[0m\u001b[0;34m\u001b[0m\u001b[0;34m\u001b[0m\u001b[0m\n\u001b[0;32m-> 2094\u001b[0;31m \u001b[0;34m\u001b[0m\u001b[0m\n\u001b[0m\u001b[1;32m   2095\u001b[0m         \u001b[0mReturns\u001b[0m\u001b[0;34m\u001b[0m\u001b[0;34m\u001b[0m\u001b[0m\n\u001b[1;32m   2096\u001b[0m         \u001b[0;34m-\u001b[0m\u001b[0;34m-\u001b[0m\u001b[0;34m-\u001b[0m\u001b[0;34m-\u001b[0m\u001b[0;34m-\u001b[0m\u001b[0;34m-\u001b[0m\u001b[0;34m-\u001b[0m\u001b[0;34m\u001b[0m\u001b[0;34m\u001b[0m\u001b[0m\n",
            "\u001b[0;32m/usr/local/lib/python3.7/dist-packages/matplotlib/backend_bases.py\u001b[0m in \u001b[0;36m_get_renderer\u001b[0;34m(figure, print_method)\u001b[0m\n\u001b[1;32m   1558\u001b[0m     \u001b[0mfigure\u001b[0m\u001b[0;34m.\u001b[0m\u001b[0mdraw_without_rendering\u001b[0m\u001b[0;34m(\u001b[0m\u001b[0;34m)\u001b[0m\u001b[0;34m\u001b[0m\u001b[0;34m\u001b[0m\u001b[0m\n\u001b[1;32m   1559\u001b[0m \u001b[0;34m\u001b[0m\u001b[0m\n\u001b[0;32m-> 1560\u001b[0;31m \u001b[0;34m\u001b[0m\u001b[0m\n\u001b[0m\u001b[1;32m   1561\u001b[0m \u001b[0;32mdef\u001b[0m \u001b[0m_is_non_interactive_terminal_ipython\u001b[0m\u001b[0;34m(\u001b[0m\u001b[0mip\u001b[0m\u001b[0;34m)\u001b[0m\u001b[0;34m:\u001b[0m\u001b[0;34m\u001b[0m\u001b[0;34m\u001b[0m\u001b[0m\n\u001b[1;32m   1562\u001b[0m     \"\"\"\n",
            "\u001b[0;32m/usr/local/lib/python3.7/dist-packages/matplotlib/backends/backend_agg.py\u001b[0m in \u001b[0;36mprint_png\u001b[0;34m(self, filename_or_obj, metadata, pil_kwargs, *args, **kwargs)\u001b[0m\n\u001b[1;32m    503\u001b[0m             \u001b[0mMetadata\u001b[0m \u001b[0;32min\u001b[0m \u001b[0mthe\u001b[0m \u001b[0mPNG\u001b[0m \u001b[0mfile\u001b[0m \u001b[0;32mas\u001b[0m \u001b[0mkey\u001b[0m\u001b[0;34m-\u001b[0m\u001b[0mvalue\u001b[0m \u001b[0mpairs\u001b[0m \u001b[0mof\u001b[0m \u001b[0mbytes\u001b[0m \u001b[0;32mor\u001b[0m \u001b[0mlatin\u001b[0m\u001b[0;34m-\u001b[0m\u001b[0;36m1\u001b[0m\u001b[0;34m\u001b[0m\u001b[0;34m\u001b[0m\u001b[0m\n\u001b[1;32m    504\u001b[0m             \u001b[0mencodable\u001b[0m \u001b[0mstrings\u001b[0m\u001b[0;34m.\u001b[0m\u001b[0;34m\u001b[0m\u001b[0;34m\u001b[0m\u001b[0m\n\u001b[0;32m--> 505\u001b[0;31m             \u001b[0mAccording\u001b[0m \u001b[0mto\u001b[0m \u001b[0mthe\u001b[0m \u001b[0mPNG\u001b[0m \u001b[0mspecification\u001b[0m\u001b[0;34m,\u001b[0m \u001b[0mkeys\u001b[0m \u001b[0mmust\u001b[0m \u001b[0mbe\u001b[0m \u001b[0mshorter\u001b[0m \u001b[0mthan\u001b[0m \u001b[0;36m79\u001b[0m\u001b[0;34m\u001b[0m\u001b[0;34m\u001b[0m\u001b[0m\n\u001b[0m\u001b[1;32m    506\u001b[0m             \u001b[0mchars\u001b[0m\u001b[0;34m.\u001b[0m\u001b[0;34m\u001b[0m\u001b[0;34m\u001b[0m\u001b[0m\n\u001b[1;32m    507\u001b[0m \u001b[0;34m\u001b[0m\u001b[0m\n",
            "\u001b[0;31mImportError\u001b[0m: cannot import name '_png' from 'matplotlib' (/usr/local/lib/python3.7/dist-packages/matplotlib/__init__.py)"
          ]
        },
        {
          "output_type": "display_data",
          "data": {
            "text/plain": [
              "<Figure size 432x288 with 1 Axes>"
            ]
          },
          "metadata": {
            "needs_background": "light"
          }
        },
        {
          "output_type": "stream",
          "name": "stderr",
          "text": [
            "Calculating metrics for GF Euler: 100%|██████████| 500/500 [00:08<00:00, 57.52it/s]\n",
            "Calculating metrics for HB Explicit: 100%|██████████| 500/500 [00:06<00:00, 73.27it/s]\n",
            "Calculating metrics for NAG Explicit: 100%|██████████| 500/500 [00:06<00:00, 74.26it/s]\n"
          ]
        }
      ],
      "source": [
        "%matplotlib inline\n",
        "result = integrate.quad(lambda x: np.exp(-1/sigma*f(x)), x_bounds[0], x_bounds[1], limit=100)\n",
        "z = result[0]\n",
        "\n",
        "def fp_stationary(x, sigma = sigma, z=z):\n",
        "    return 1/z*np.exp(-1/sigma*f(x))\n",
        "\n",
        "# KL\n",
        "kde = gaussian_kde(x_dynamics[\"GF Euler\"][:, 0])\n",
        "kde_pdf = kde.pdf\n",
        "\n",
        "# this is not working :(\n",
        "def kl_divergence_cont(p, q):\n",
        "    result = integrate.quad(lambda x: p(x) * np.log(p(x)/q(x)), x_bounds[0], x_bounds[1], limit=100)\n",
        "    return result[0]\n",
        "\n",
        "def kl_divergence(p, q):\n",
        "    return np.sum(np.where(p*q != 0, p * np.log(p / q), 0))\n",
        "\n",
        "# WD\n",
        "N_points = 1000\n",
        "x_grid = np.linspace(*x_bounds, num=N_points)\n",
        "\n",
        "def generate_cdf_values(x_grid, p):\n",
        "    CDF_values = onp.zeros_like(x_grid)\n",
        "    for i_x, x in enumerate(tqdm(x_grid[:-1], desc=\"Generating CDF\")):\n",
        "        CDF_values[i_x+1] = CDF_values[i_x] + integrate.quad(lambda t: p(t), x_grid[i_x], x_grid[i_x+1], limit=100)[0]\n",
        "    \n",
        "    return CDF_values\n",
        "\n",
        "CDF_values = generate_cdf_values(x_grid, fp_stationary)\n",
        "\n",
        "plt.plot(x_grid, CDF_values)\n",
        "plt.title(\"FP stationary\")\n",
        "plt.ylabel(\"CDF\")\n",
        "plt.xlabel(\"x\")\n",
        "plt.show()\n",
        "\n",
        "def fp_stationary_sample(N_samples, x_grid=x_grid, CDF_values=CDF_values, RNG=RNG):\n",
        "    x_uniform_sample = jax.random.uniform(RNG, (N_samples,1), minval=0, maxval=1).squeeze()\n",
        "\n",
        "    def find_nearest(value, array = CDF_values):\n",
        "        return (np.abs(array - value)).argmin()\n",
        "\n",
        "    idxs = vmap(find_nearest)(x_uniform_sample)\n",
        "\n",
        "    return x_grid[idxs]\n",
        "\n",
        "N_points = 1000\n",
        "x = np.linspace(*x_bounds, N_points)\n",
        "\n",
        "for method in methods:\n",
        "    for i_t, t_ in enumerate(tqdm(t_seq[method], desc=f\"Calculating metrics for {method}\")):\n",
        "        RNG, subkey = jax.random.split(RNG)\n",
        "\n",
        "        x_list = x_dynamics[method][:, i_t]\n",
        "        f_list = f(x_list)\n",
        "\n",
        "        # WD ! TO IMPLEMENT MANUALLY\n",
        "        x_fp_sample = fp_stationary_sample(N_solutions, RNG=RNG)\n",
        "        wd = wasserstein_distance(x_list, x_fp_sample)\n",
        "        wds[method][i_t] = wd\n",
        "\n",
        "        # KL\n",
        "        kde = gaussian_kde(x_dynamics[method][:, i_t], bw_method=0.05)\n",
        "        kde_pdf = kde.pdf\n",
        "\n",
        "        P_emp = kde_pdf(x)\n",
        "\n",
        "        P_emp_ = P_emp/P_emp.sum()\n",
        "\n",
        "        P_stat = fp_stationary(x)\n",
        "        P_stat_ = P_stat/P_stat.sum()\n",
        "\n",
        "        kl = kl_divergence(P_emp_, P_stat_)\n",
        "        kls[method][i_t] = kl\n",
        "    \n",
        "    kde_pdfs[method] = kde_pdf"
      ]
    },
    {
      "cell_type": "markdown",
      "metadata": {
        "id": "iTO2TPLRa_Ob"
      },
      "source": [
        "## Simple graphs"
      ]
    },
    {
      "cell_type": "code",
      "execution_count": 6,
      "metadata": {
        "colab": {
          "base_uri": "https://localhost:8080/",
          "height": 258
        },
        "id": "RIId2SSqbBVA",
        "outputId": "5296c42c-7f84-4a1f-f8f8-c14f09fbe1e9"
      },
      "outputs": [
        {
          "output_type": "error",
          "ename": "AttributeError",
          "evalue": "ignored",
          "traceback": [
            "\u001b[0;31m---------------------------------------------------------------------------\u001b[0m",
            "\u001b[0;31mAttributeError\u001b[0m                            Traceback (most recent call last)",
            "\u001b[0;32m<ipython-input-6-bcdaefb1db30>\u001b[0m in \u001b[0;36m<module>\u001b[0;34m()\u001b[0m\n\u001b[1;32m      1\u001b[0m \u001b[0;31m# create a figure and axs[\"A\"]es\u001b[0m\u001b[0;34m\u001b[0m\u001b[0;34m\u001b[0m\u001b[0;34m\u001b[0m\u001b[0m\n\u001b[1;32m      2\u001b[0m \u001b[0mfig\u001b[0m \u001b[0;34m=\u001b[0m \u001b[0mplt\u001b[0m\u001b[0;34m.\u001b[0m\u001b[0mfigure\u001b[0m\u001b[0;34m(\u001b[0m\u001b[0mconstrained_layout\u001b[0m\u001b[0;34m=\u001b[0m\u001b[0;32mTrue\u001b[0m\u001b[0;34m,\u001b[0m \u001b[0mfigsize\u001b[0m\u001b[0;34m=\u001b[0m\u001b[0;34m(\u001b[0m\u001b[0;36m15\u001b[0m\u001b[0;34m,\u001b[0m\u001b[0;36m7\u001b[0m\u001b[0;34m)\u001b[0m\u001b[0;34m)\u001b[0m\u001b[0;34m\u001b[0m\u001b[0;34m\u001b[0m\u001b[0m\n\u001b[0;32m----> 3\u001b[0;31m axs  = fig.subplot_mosaic(\n\u001b[0m\u001b[1;32m      4\u001b[0m     \"\"\"\n\u001b[1;32m      5\u001b[0m     \u001b[0mAC\u001b[0m\u001b[0;34m\u001b[0m\u001b[0;34m\u001b[0m\u001b[0m\n",
            "\u001b[0;31mAttributeError\u001b[0m: 'Figure' object has no attribute 'subplot_mosaic'"
          ]
        },
        {
          "output_type": "display_data",
          "data": {
            "text/plain": [
              "<Figure size 1080x504 with 0 Axes>"
            ]
          },
          "metadata": {}
        }
      ],
      "source": [
        "# create a figure and axs[\"A\"]es\n",
        "fig = plt.figure(constrained_layout=True, figsize=(15,7))\n",
        "axs  = fig.subplot_mosaic(\n",
        "    \"\"\"\n",
        "    AC\n",
        "    BD\n",
        "    \"\"\"\n",
        ")\n",
        "\n",
        "# set up the subplots as needed\n",
        "plt.xlim(x_bounds)  \n",
        "\n",
        "axs[\"A\"].set_title(\"Function value\")\n",
        "axs[\"A\"].set_xlabel('x')\n",
        "axs[\"A\"].set_ylabel('value')\n",
        "axs[\"A\"].plot(x, f(x), color = \"red\")\n",
        "\n",
        "axs[\"B\"].set_title(\"Solutions distribution at the last iteration.\")\n",
        "axs[\"B\"].set_xlabel('x')\n",
        "axs[\"B\"].set_ylabel('value')\n",
        "axs[\"B\"].plot(x, fp_stationary(x), color = \"red\")\n",
        "\n",
        "axs[\"C\"].set_title(r\"KL$(\\rho(t), \\rho^*)$\")\n",
        "axs[\"C\"].set_xlabel(\"t\")\n",
        "axs[\"C\"].set_xlim(t_seq[\"GF Euler\"].min(), t_seq[\"GF Euler\"].max())\n",
        "axs[\"C\"].grid(linestyle=':')\n",
        "\n",
        "axs[\"D\"].set_title(r\"Wasserstein distance $(\\rho(t), \\rho^*)$\")\n",
        "axs[\"D\"].set_xlabel(\"t\")\n",
        "axs[\"D\"].set_xlim(t_seq[\"GF Euler\"].min(), t_seq[\"GF Euler\"].max())\n",
        "axs[\"D\"].grid(linestyle=':')\n",
        "\n",
        "for method in methods:\n",
        "    axs[\"A\"].plot(x_dynamics[method][:, -1], f(x_dynamics[method][:, -1]), '.', ms=5)\n",
        "    axs[\"B\"].plot(x, kde_pdfs[method](x), label=method)\n",
        "    axs[\"C\"].plot(t_seq[method], kls[method])\n",
        "    axs[\"D\"].plot(t_seq[method], wds[method])\n",
        "\n",
        "axs[\"B\"].plot([None, None], color = \"red\", label=r\"Stationary $p^*(x)$\")\n",
        "axs[\"B\"].legend(loc='center right', bbox_to_anchor=(0.75, -0.35))\n",
        "plt.show()"
      ]
    },
    {
      "cell_type": "markdown",
      "metadata": {
        "id": "IKqjkdaUaxJ4"
      },
      "source": [
        "## Animated graphs"
      ]
    },
    {
      "cell_type": "code",
      "execution_count": null,
      "metadata": {
        "colab": {
          "base_uri": "https://localhost:8080/",
          "height": 818
        },
        "id": "kyCR-agjYtcv",
        "outputId": "3e68e7f0-e5f7-419a-f1fe-322e47d1d4ed"
      },
      "outputs": [
        {
          "ename": "TypeError",
          "evalue": "ignored",
          "output_type": "error",
          "traceback": [
            "\u001b[0;31m---------------------------------------------------------------------------\u001b[0m",
            "\u001b[0;31mTypeError\u001b[0m                                 Traceback (most recent call last)",
            "\u001b[0;32m<ipython-input-95-0ff9956a101a>\u001b[0m in \u001b[0;36m<module>\u001b[0;34m()\u001b[0m\n\u001b[1;32m     34\u001b[0m \u001b[0;34m\u001b[0m\u001b[0m\n\u001b[1;32m     35\u001b[0m \u001b[0mline_fp\u001b[0m\u001b[0;34m,\u001b[0m \u001b[0;34m=\u001b[0m \u001b[0maxs\u001b[0m\u001b[0;34m[\u001b[0m\u001b[0;34m\"B\"\u001b[0m\u001b[0;34m]\u001b[0m\u001b[0;34m.\u001b[0m\u001b[0mplot\u001b[0m\u001b[0;34m(\u001b[0m\u001b[0mx\u001b[0m\u001b[0;34m,\u001b[0m \u001b[0mfp_stationary\u001b[0m\u001b[0;34m(\u001b[0m\u001b[0mx\u001b[0m\u001b[0;34m)\u001b[0m\u001b[0;34m,\u001b[0m \u001b[0mlabel\u001b[0m\u001b[0;34m=\u001b[0m\u001b[0;34m\"FP stationary p(x)\"\u001b[0m\u001b[0;34m)\u001b[0m     \u001b[0;31m# axs[\"A\"].plot returns a list of 2D line objects\u001b[0m\u001b[0;34m\u001b[0m\u001b[0;34m\u001b[0m\u001b[0m\n\u001b[0;32m---> 36\u001b[0;31m \u001b[0mkde\u001b[0m \u001b[0;34m=\u001b[0m \u001b[0mgaussian_kde\u001b[0m\u001b[0;34m(\u001b[0m\u001b[0mx_dynamics\u001b[0m\u001b[0;34m[\u001b[0m\u001b[0;34m:\u001b[0m\u001b[0;34m,\u001b[0m \u001b[0;36m0\u001b[0m\u001b[0;34m]\u001b[0m\u001b[0;34m,\u001b[0m \u001b[0mbw_method\u001b[0m\u001b[0;34m=\u001b[0m\u001b[0;36m0.05\u001b[0m\u001b[0;34m)\u001b[0m\u001b[0;34m\u001b[0m\u001b[0;34m\u001b[0m\u001b[0m\n\u001b[0m\u001b[1;32m     37\u001b[0m \u001b[0mkde_pdf\u001b[0m \u001b[0;34m=\u001b[0m \u001b[0mkde\u001b[0m\u001b[0;34m.\u001b[0m\u001b[0mpdf\u001b[0m\u001b[0;34m\u001b[0m\u001b[0;34m\u001b[0m\u001b[0m\n\u001b[1;32m     38\u001b[0m \u001b[0mline_empirical_cdf\u001b[0m\u001b[0;34m,\u001b[0m \u001b[0;34m=\u001b[0m \u001b[0maxs\u001b[0m\u001b[0;34m[\u001b[0m\u001b[0;34m\"B\"\u001b[0m\u001b[0;34m]\u001b[0m\u001b[0;34m.\u001b[0m\u001b[0mplot\u001b[0m\u001b[0;34m(\u001b[0m\u001b[0mx\u001b[0m\u001b[0;34m,\u001b[0m \u001b[0mkde_pdf\u001b[0m\u001b[0;34m(\u001b[0m\u001b[0mx\u001b[0m\u001b[0;34m)\u001b[0m\u001b[0;34m,\u001b[0m \u001b[0mlabel\u001b[0m\u001b[0;34m=\u001b[0m\u001b[0;34m\"Empirical density\"\u001b[0m\u001b[0;34m)\u001b[0m\u001b[0;34m\u001b[0m\u001b[0;34m\u001b[0m\u001b[0m\n",
            "\u001b[0;31mTypeError\u001b[0m: unhashable type: 'slice'"
          ]
        },
        {
          "data": {
            "image/png": "[encoded data removed]",
            "text/plain": [
              "<Figure size 720x576 with 4 Axes>"
            ]
          },
          "metadata": {},
          "output_type": "display_data"
        }
      ],
      "source": [
        "import seaborn as sns\n",
        "sns.set()\n",
        "N_points = 1000\n",
        "x = np.linspace(*x_bounds, N_points)\n",
        "\n",
        "# Calculating normalization constant z\n",
        "\n",
        "\n",
        "grads = vmap(df)(x)\n",
        "\n",
        "# create a figure and axs[\"A\"]es\n",
        "fig = plt.figure(constrained_layout=True, figsize=(10,8))\n",
        "axs  = fig.subplot_mosaic(\n",
        "    \"\"\"\n",
        "    AA\n",
        "    BB\n",
        "    CD\n",
        "    \"\"\"\n",
        ")\n",
        "\n",
        "# fig, ax = plt.subplots(figsize=(14,5))\n",
        "\n",
        "# set up the subplots as needed\n",
        "plt.xlim(x_bounds)          \n",
        "axs[\"A\"].set_xlabel('x')\n",
        "axs[\"A\"].set_ylabel('value')\n",
        "\n",
        "# create objects that will change in the animation. These are\n",
        "# initially empty, and will be given new values for each frame\n",
        "# in the animation.\n",
        "txt_title = fig.suptitle('')\n",
        "line_f, = axs[\"A\"].plot(x, f(x), label=\"f(x)\")     # ax[\"A\"].plot returns a list of 2D line objects\n",
        "line_grad, = axs[\"A\"].plot(x, abs(grads), label=r\"$|\\nabla$ f(x)|\", alpha=0.3)\n",
        "\n",
        "line_fp, = axs[\"B\"].plot(x, fp_stationary(x), label=\"FP stationary p(x)\")     # axs[\"A\"].plot returns a list of 2D line objects\n",
        "kde = gaussian_kde(x_dynamics[:, 0], bw_method=0.05)\n",
        "kde_pdf = kde.pdf\n",
        "line_empirical_cdf, = axs[\"B\"].plot(x, kde_pdf(x), label=\"Empirical density\")   \n",
        "\n",
        "line_kl, = axs[\"C\"].plot(t_seq, [None for t in t_seq]) \n",
        "line_wd, = axs[\"D\"].plot(t_seq, [None for t in t_seq])     \n",
        "  \n",
        "\n",
        "line_solutions, = axs[\"A\"].plot([], [], 'r.', ms=20)\n",
        "line_solutions_cdf, = axs[\"B\"].plot([], [], 'r.', label='Solutions', ms=20)\n",
        "tail_lines = []\n",
        "for i in range(N_solutions):\n",
        "    tail_lines.append(axs[\"A\"].plot([], [], 'orange', lw=2)[0])\n",
        "axs[\"A\"].legend(loc='upper right')\n",
        "axs[\"A\"].grid(linestyle=':')\n",
        "axs[\"B\"].set_title(\"Solutions distribution\")\n",
        "axs[\"B\"].legend(loc='upper right')\n",
        "axs[\"B\"].set_xlabel(\"x\")\n",
        "axs[\"B\"].set_ylim(-1e-2, None)\n",
        "axs[\"B\"].grid(linestyle=':')\n",
        "axs[\"C\"].set_title(r\"KL$(\\rho(t), \\rho^*)$\")\n",
        "axs[\"C\"].set_xlabel(\"t\")\n",
        "axs[\"C\"].set_xlim(t_seq.min(), t_seq.max())\n",
        "axs[\"C\"].set_ylim(0, 15)\n",
        "axs[\"C\"].grid(linestyle=':')\n",
        "axs[\"D\"].set_title(r\"Wasserstein distance $(\\rho(t), \\rho^*)$\")\n",
        "axs[\"D\"].set_xlabel(\"t\")\n",
        "axs[\"D\"].set_xlim(t_seq.min(), t_seq.max())\n",
        "axs[\"D\"].set_ylim(0, 1.5)\n",
        "axs[\"D\"].grid(linestyle=':')\n",
        "\n",
        "kls = [None for t in t_seq]\n",
        "wds = [None for t in t_seq]\n",
        "\n",
        "# animation function. This is called sequentially\n",
        "def drawframe(n, sigma=sigma, kls=kls, z=z, RNG=RNG, wds=wds):\n",
        "    tail_length = 30\n",
        "    print(n)\n",
        "    # for i in range(N_solutions):\n",
        "    #     x_list = x_dynamics[i, max(0, n-tail_length):n]\n",
        "    #     f_list = f(x_list)\n",
        "    #     tail_lines[i].set_data(x_list, f_list)\n",
        "    x_list = x_dynamics[:, n]\n",
        "    f_list = f(x_list)\n",
        "    line_solutions.set_data(x_list,f_list)\n",
        "    line_solutions_cdf.set_data(x_list, np.zeros_like(x_list))\n",
        "\n",
        "\n",
        "    # WD ! TO IMPLEMENT MANUALLY\n",
        "    RNG, subkey = jax.random.split(RNG)\n",
        "    x_fp_sample = fp_stationary_sample(N_solutions, RNG=RNG)\n",
        "    wd = wasserstein_distance(x_list, x_fp_sample)\n",
        "    wds[n] = wd\n",
        "    line_wd.set_data(t_seq, wds)\n",
        "\n",
        "    # KL\n",
        "    kde = gaussian_kde(x_dynamics[:, n], bw_method=0.05)\n",
        "    kde_pdf = kde.pdf\n",
        "\n",
        "    P_emp = kde_pdf(x)\n",
        "    line_empirical_cdf.set_data(x, P_emp)\n",
        "    P_emp_ = P_emp/P_emp.sum()\n",
        "\n",
        "    P_stat = fp_stationary(x)\n",
        "    P_stat_ = P_stat/P_stat.sum()\n",
        "\n",
        "    kl = kl_divergence(P_emp_, P_stat_)\n",
        "    kls[n] = kl\n",
        "    line_kl.set_data(t_seq, kls)\n",
        "\n",
        "    txt_title.set_text(f\"SGD SDE dynamics. {N_solutions} points with random uniform init; sigma = {sigma}\")\n",
        "    # kls.append(kl_divergence(fp_values, actual_values))\n",
        "   \n",
        "    return line_solutions, line_solutions_cdf\n",
        "\n",
        "from matplotlib import animation\n",
        "\n",
        "# blit=True re-draws only the parts that have changed.\n",
        "anim = animation.FuncAnimation(fig, drawframe, frames=N_t_values, interval=20, blit=True)\n",
        "from IPython.display import HTML\n",
        "html = HTML(anim.to_html5_video())\n",
        "display(html)\n",
        "plt.close()"
      ]
    },
    {
      "cell_type": "markdown",
      "metadata": {
        "id": "20gRtiGQ4KEC"
      },
      "source": [
        "# Legacy"
      ]
    },
    {
      "cell_type": "code",
      "execution_count": null,
      "metadata": {
        "id": "eIggB7p74KEC"
      },
      "outputs": [],
      "source": [
        "from matplotlib import animation\n",
        "from IPython.display import HTML\n",
        "\n",
        "def drawframe(n, x_dynamics_met=x_dynamics[\"NAG Explicit\"]):\n",
        "    print(n)\n",
        "    dist.set_data(x_dynamics_met[:, n], onp.zeros_like(x_dynamics_met[:, n]))\n",
        "    return dist, fig\n",
        "\n",
        "fig = plt.figure(constrained_layout=True, figsize=(10,8))\n",
        "axs  = fig.subplot_mosaic(\n",
        "    \"\"\"\n",
        "    A\n",
        "    \"\"\"\n",
        ")\n",
        "dist, = axs[\"A\"].plot([], [], 'r.', label='Solutions', ms=20)\n",
        "axs[\"A\"].set_xlim(-15,15)\n",
        "anim = animation.FuncAnimation(fig, drawframe, frames=100, interval=20, blit=True)\n",
        "html = HTML(anim.to_html5_video())\n",
        "display(html)\n",
        "plt.close()"
      ]
    }
  ],
  "metadata": {
    "colab": {
      "collapsed_sections": [],
      "name": "SDE.ipynb",
      "provenance": [],
      "include_colab_link": true
    },
    "kernelspec": {
      "display_name": "Python 3",
      "name": "python3"
    },
    "language_info": {
      "codemirror_mode": {
        "name": "ipython",
        "version": 3
      },
      "file_extension": ".py",
      "mimetype": "text/x-python",
      "name": "python",
      "nbconvert_exporter": "python",
      "pygments_lexer": "ipython3",
      "version": "3.9.7"
    }
  },
  "nbformat": 4,
  "nbformat_minor": 0
}