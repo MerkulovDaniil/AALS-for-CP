{
  "nbformat": 4,
  "nbformat_minor": 0,
  "metadata": {
    "colab": {
      "name": "run_experiment.ipynb",
      "provenance": [],
      "authorship_tag": "ABX9TyMWbvXd7zjFvwTsRmmb6Rqx",
      "include_colab_link": true
    },
    "kernelspec": {
      "name": "python3",
      "display_name": "Python 3"
    }
  },
  "cells": [
    {
      "cell_type": "markdown",
      "metadata": {
        "id": "view-in-github",
        "colab_type": "text"
      },
      "source": [
        "<a href=\"https://colab.research.google.com/github/MerkulovDaniil/AALS-for-CP/blob/master/run_experiment.ipynb\" target=\"_parent\"><img src=\"https://colab.research.google.com/assets/colab-badge.svg\" alt=\"Open In Colab\"/></a>"
      ]
    },
    {
      "cell_type": "code",
      "metadata": {
        "id": "H1u4xZ04TttA"
      },
      "source": [
        "! git clone link/to/your/repo"
      ],
      "execution_count": null,
      "outputs": []
    },
    {
      "cell_type": "code",
      "metadata": {
        "id": "KiwiD2h6TY7N"
      },
      "source": [
        "# External files\n",
        "from algorithms \timport *\n",
        "from load_tensor   \timport *\n",
        "from utils      \timport *"
      ],
      "execution_count": null,
      "outputs": []
    }
  ]
}